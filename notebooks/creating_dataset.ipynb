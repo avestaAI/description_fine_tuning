{
 "cells": [
  {
   "cell_type": "code",
   "execution_count": 4,
   "metadata": {},
   "outputs": [],
   "source": [
    "import jsonlines\n",
    "import os\n",
    "import pickle as pkl"
   ]
  },
  {
   "cell_type": "code",
   "execution_count": 5,
   "metadata": {},
   "outputs": [],
   "source": [
    "with open('desc_dataset.pkl','rb') as f:\n",
    "    descriptions = pkl.load(f)"
   ]
  },
  {
   "cell_type": "code",
   "execution_count": 6,
   "metadata": {},
   "outputs": [],
   "source": [
    "descriptions = descriptions[:50]"
   ]
  },
  {
   "cell_type": "code",
   "execution_count": 7,
   "metadata": {},
   "outputs": [],
   "source": [
    "from correct_tags import correct_tags"
   ]
  },
  {
   "cell_type": "code",
   "execution_count": 8,
   "metadata": {},
   "outputs": [],
   "source": [
    "prompt_template_qa = \"\"\"### Question:\n",
    "{description}\n",
    "\n",
    "### Answer:\n",
    "{tags}\n",
    "\"\"\"\n",
    "\n",
    "prompt_template_q = \"\"\"### Question:\n",
    "{description}\n",
    "\n",
    "### Answer:\n",
    "\"\"\""
   ]
  },
  {
   "cell_type": "code",
   "execution_count": 9,
   "metadata": {},
   "outputs": [
    {
     "name": "stdout",
     "output_type": "stream",
     "text": [
      "### Question:\n",
      "Property Highlights:\n",
      "- Stunning 2020 McDonald Jones built home with luxurious living, inside and out!\n",
      "- A spacious floor plan with open plan living/dining, a media room, a home office + a rumpus room.\n",
      "- Gourmet kitchen with quality Fisher & Paykel appliances including a 900mm oven, a 5 burner gas cooktop, a dishwasher,\n",
      "        20mm Caesarstone benchtops, a Butler's pantry, a stunning window splashback, herringbone tiles, ample storage + an island bench with a breakfast bar.\n",
      "- Four spacious bedrooms, the master with a twin walk-in robe and luxury ensuite.\n",
      "- Stylish floating floorboards, LED downlighting, premium carpet + plantation shutters throughout.\n",
      "- ActronAir 2 zone ducted air conditioning, instant gas hot water, bottled gas to the property,\n",
      "        8 security cameras + an impressive 13.5kW solar system.\n",
      "- Impressive covered alfresco area with an outdoor cooking zone overlooking the sparkling inground pool, ready for your summer fun.\n",
      "- Massive 1500 sqm parcel of land with immaculately landscaped gardens + a 4500L water storage tank.\n",
      "- An attached double garage with internal access + a separate Colorbond shed in the yard with workshop benches.\n",
      "\n",
      "Outgoings:\n",
      "Council rate: $3,\n",
      "        208 approx. per annum\n",
      "Water rates: $825.42 approx. per annum\n",
      "Rental return: $800 approx. per week\n",
      "\n",
      "When only the very best will do, look no further than this exquisite luxury residence, presenting a spacious free flowing floor plan and premium features throughout, all set on a beautiful 1500 sqm parcel of land in the highly sought location of Louth Park.\n",
      "\n",
      "Offering the rare chance to enjoy a semi-rural lifestyle, whilst still enjoying easy access to all the city conveniences you'll need, this incredible home offers the best of both worlds.  A short 20 minute drive will connect you to Maitland's heritage CBD, with Newcastle's city and beaches just 45 minutes away.  In addition, you'll enjoy convenient access to the Hunter Expressway, connecting you to the vineyards and shores of Lake Macquarie with ease.\n",
      "\n",
      "Arriving at the property, a sweeping grassed lawn and established gardens frame the home, with a lovely front path leading to the residence, presenting a stunning Hamptons style facade. A spacious exposed aggregate driveway provides plenty of parking for family and guests, while the attached double garage with internal access offers secure parking for your cars.\n",
      "\n",
      "At the entrance to the home is an inviting covered patio complete with downlighting, offering the perfect spot to sit back and enjoy your morning coffee with a view of the immaculate front yard.\n",
      "\n",
      "Stepping inside you'll arrive in the spacious entry hall, revealing stylish 3 step cornices,  contemporary floating floorboards, and the modern LED downlighting found throughout the home.\n",
      "\n",
      "A dedicated bedroom wing is set at the front of the residence where you will find three rooms for the kids, all featuring built-in robes, plantation shutters, and plush carpet flooring.  A thoughtful addition to this space is a versatile rumpus room, along with an office/study space, perfect for those working from home.\n",
      "\n",
      "Servicing these bedrooms is the beautifully presented main bathroom which includes gleaming large format tiles, a large vanity with a 20mm Caesarstone benchtop, a built-in bath, a shower with a built-in recess, and a separate powder room.\n",
      "\n",
      "The master suite at the rear of the home offers plenty of room for your king sized bed, a twin walk-in robe, and a luxury ensuite complete with a twin vanity, a large shower and an inviting freestanding bathtub.\n",
      "\n",
      "Designed for the modern family, you'll find a range of living spaces, providing room for everyone to relax and unwind.  Midway along the entrance hall is a dedicated media room, with a clerestory window, carpeted flooring and a sliding door to create that perfect home cinema feel.\n",
      "\n",
      "The open plan living, dining and kitchen area is a sight to behold, with dual sets of French doors delivering natural light and classic style in equal measure.\n",
      "\n",
      "The luxuriously appointed kitchen boasts premium appliances including a 900mm Fisher & Paykel oven, a 5 burner gas cooktop, a dishwasher, and a built-in microwave for added convenience.  There is a lovely window and Herringbone tiled splashback, a large butler's pantry with a stainless steel sink and direct access to the laundry, and plenty of storage in the surrounding shaker-style cabinetry.\n",
      "\n",
      "A large island bench showcases the gleaming 20mm Caesarstone benchtops, whilst offering a recessed sink with a mixer tap and filtration, a handy breakfast bar, and a striking pendant light overhead. \n",
      "\n",
      "Stepping outside via the beautiful French doors, you'll arrive in the spectacular alfresco area, with chic Terrazzo look outdoor tiles, a ceiling fan and stylish pendant light features.  Completing this ideal outdoor space is an impressive outdoor cooking area with a built-in Jumbuck BBQ and stone benchtops for your food preparation needs.\n",
      "\n",
      "Taking centre stage in this incredible backyard is a sparkling inground salt\n",
      "\n",
      "### Answer:\n",
      "['Built in Robes', 'Dishwasher', 'Ensuite', 'Floor Boards', 'Rumpus Room', 'Hot Water Gas', 'Intercom', 'Pool (Inground)', 'Remote Garage', 'Shed', 'Air Conditioning', 'Solar Panels', 'Water Tank']\n",
      "\n"
     ]
    }
   ],
   "source": [
    "print(prompt_template_qa.format(description=descriptions[3],tags=correct_tags[3]))"
   ]
  },
  {
   "cell_type": "code",
   "execution_count": 29,
   "metadata": {},
   "outputs": [],
   "source": [
    "finetuning_dataset_text = []\n",
    "finetuning_dataset_q_a = []\n",
    "for i in range(50):\n",
    "    description = descriptions[i]\n",
    "    tags = correct_tags[i]\n",
    "    text_with_prompt_template_qa = prompt_template_qa.format(description=description,tags=tags)\n",
    "    finetuning_dataset_text.append({\"text\":text_with_prompt_template_qa})\n",
    "\n",
    "    text_with_prompt_template_q = prompt_template_q.format(description=description)\n",
    "    finetuning_dataset_q_a.append({\"question\":text_with_prompt_template_q, \"answer\":str(tags)})\n",
    "    "
   ]
  },
  {
   "cell_type": "code",
   "execution_count": 28,
   "metadata": {},
   "outputs": [
    {
     "data": {
      "text/plain": [
       "\"['Built in Robes', 'Dishwasher', 'Ensuite', 'Floor Boards', 'Rumpus Room', 'Hot Water Gas', 'Intercom', 'Pool (Inground)', 'Remote Garage', 'Shed', 'Air Conditioning', 'Solar Panels', 'Water Tank']\""
      ]
     },
     "execution_count": 28,
     "metadata": {},
     "output_type": "execute_result"
    }
   ],
   "source": [
    "finetuning_dataset_q_a[3]['answer'].replace(\"'\",\"\\'\")"
   ]
  },
  {
   "cell_type": "code",
   "execution_count": 12,
   "metadata": {},
   "outputs": [
    {
     "name": "stdout",
     "output_type": "stream",
     "text": [
      "{'text': \"### Question:\\nApplication Form: If you would like to apply for the lease, please visit: \\nhttp: //T-app.com.au/RhConcord\\n\\nSituated in only a block of 6 units, this double brick building presents in great condition throughout. Conveniently, it is situated in a well maintained security complex and is located within walking distance to Meadowbank train station, Rivercat & Shepherds Bay shopping village.\\n\\nFeatures include: -2 generously sized bedrooms\\n-Spacious combined lounge & dining room\\n-Good size bathroom\\n-Spacious kitchen with cooktop and plenty of storage space\\n-North facing balcony overlook greens \\n-Undercover car space\\n\\nA perfect opportunity to secure a home today!\\n\\n\\n\\n### Answer:\\n['Balcony']\\n\"}\n"
     ]
    }
   ],
   "source": [
    "print(finetuning_dataset_text[0])"
   ]
  },
  {
   "cell_type": "code",
   "execution_count": 30,
   "metadata": {},
   "outputs": [],
   "source": [
    "with jsonlines.open('finetuning_dataset_q_a.jsonl','w') as f:\n",
    "    f.write_all(finetuning_dataset_q_a)"
   ]
  },
  {
   "cell_type": "code",
   "execution_count": 31,
   "metadata": {},
   "outputs": [],
   "source": [
    "with jsonlines.open('finetuning_dataset_text.jsonl','w') as f:\n",
    "    f.write_all(finetuning_dataset_text)"
   ]
  },
  {
   "cell_type": "code",
   "execution_count": null,
   "metadata": {},
   "outputs": [],
   "source": []
  },
  {
   "cell_type": "code",
   "execution_count": null,
   "metadata": {},
   "outputs": [],
   "source": []
  },
  {
   "cell_type": "code",
   "execution_count": null,
   "metadata": {},
   "outputs": [],
   "source": []
  },
  {
   "cell_type": "code",
   "execution_count": null,
   "metadata": {},
   "outputs": [],
   "source": []
  },
  {
   "cell_type": "code",
   "execution_count": null,
   "metadata": {},
   "outputs": [],
   "source": []
  },
  {
   "cell_type": "code",
   "execution_count": null,
   "metadata": {},
   "outputs": [],
   "source": []
  },
  {
   "cell_type": "code",
   "execution_count": null,
   "metadata": {},
   "outputs": [],
   "source": []
  },
  {
   "cell_type": "code",
   "execution_count": null,
   "metadata": {},
   "outputs": [],
   "source": []
  },
  {
   "cell_type": "code",
   "execution_count": null,
   "metadata": {},
   "outputs": [],
   "source": []
  }
 ],
 "metadata": {
  "kernelspec": {
   "display_name": "env",
   "language": "python",
   "name": "python3"
  },
  "language_info": {
   "codemirror_mode": {
    "name": "ipython",
    "version": 3
   },
   "file_extension": ".py",
   "mimetype": "text/x-python",
   "name": "python",
   "nbconvert_exporter": "python",
   "pygments_lexer": "ipython3",
   "version": "3.10.12"
  }
 },
 "nbformat": 4,
 "nbformat_minor": 2
}
